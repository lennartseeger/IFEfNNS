{
 "cells": [
  {
   "cell_type": "markdown",
   "id": "f8111ce3-bb57-4ac8-b23e-2ff1e926ffaf",
   "metadata": {},
   "source": [
    "# Filtering of patches according to their standard deviation in satellite images\n",
    "\n",
    "**Author:** [Lennart Seeger]<br>\n",
    "**Date created:** 2021/04/24<br>\n",
    "**Last modified:** 2023/03/24<br>"
   ]
  },
  {
   "cell_type": "code",
   "execution_count": null,
   "id": "30a21f02-be51-48e3-8922-542c54a709b7",
   "metadata": {},
   "outputs": [],
   "source": [
    "import sys\n",
    "sys.path.insert(1, '../src')\n",
    "%load_ext autoreload\n",
    "%autoreload 2\n",
    "\n",
    "import os\n",
    "os.environ['CUDA_VISIBLE_DEVICES'] = '-1'\n",
    "                    \n",
    "import rasterio as rio\n",
    "from pyproj import Transformer\n",
    "import numpy as np"
   ]
  },
  {
   "cell_type": "code",
   "execution_count": null,
   "id": "c678d999-14b6-4bce-b28e-eaf57f14bfe1",
   "metadata": {},
   "outputs": [],
   "source": [
    "# Parameters\n",
    "image_size=256\n",
    "cog=\"/home/jovyan/work/satellite_data/all_cog.tif\" #replace this path\n",
    "valid_positions=np.load(\"../data/valid_positions.npy\")\n",
    "print(valid_positions.shape)\n",
    "size=256\n",
    "batch_size=5000\n",
    "start_row=0\n",
    "start_col=0\n",
    "out_crs=3857\n",
    "element_counter=0\n",
    "avg_std=30"
   ]
  },
  {
   "cell_type": "code",
   "execution_count": null,
   "id": "1c04dd3b-f666-46af-b4cd-6f817ee33ec5",
   "metadata": {},
   "outputs": [],
   "source": [
    "valid_positions_avg_std = np.zeros(2).reshape(1,2)\n",
    "intermediate_positions = []\n",
    "with rio.open(cog) as dataset:\n",
    "    transformer = Transformer.from_crs(\n",
    "                dataset.crs.to_epsg(), out_crs, always_xy=True)\n",
    "    for element in valid_positions:\n",
    "        row=element[0]\n",
    "        col=element[1]\n",
    "        window = dataset.read(window=((row, row + size), (col, col + size)))\n",
    "        intermediate_positions.append(\n",
    "            {\n",
    "                \"row\": row,\n",
    "                \"col\": col,\n",
    "                \"window\": window,\n",
    "            }\n",
    "        )\n",
    "        # yield list of windows for batch\n",
    "        element_counter+=1\n",
    "        if(element_counter%1000==0):\n",
    "            valid_positions_avg_std=np.append(valid_positions_avg_std,np.array([(elem['row'],elem['col']) for elem in intermediate_positions if ((elem['window'][0,:,:].std()+elem['window'][1,:,:].std()+elem['window'][2,:,:].std())/3)>avg_std]),axis=0)\n",
    "            intermediate_positions = []\n",
    "            print(f\"progress: {(element_counter/len(valid_positions)*100):.2f}%\")\n",
    "            print(str(valid_positions_avg_std.shape))"
   ]
  },
  {
   "cell_type": "code",
   "execution_count": null,
   "id": "1a444cfe-b034-46a3-8d9b-41af6fd1835c",
   "metadata": {},
   "outputs": [],
   "source": [
    "valid_positions_avg_std.shape"
   ]
  },
  {
   "cell_type": "code",
   "execution_count": null,
   "id": "f5f084b7-a9bb-4d54-8670-023612feeffb",
   "metadata": {},
   "outputs": [],
   "source": [
    "np.save(\"../data/valid_positions_avg_std30\",valid_positions_avg_std[1:])"
   ]
  }
 ],
 "metadata": {
  "kernelspec": {
   "display_name": "Python 3 (ipykernel)",
   "language": "python",
   "name": "python3"
  },
  "language_info": {
   "codemirror_mode": {
    "name": "ipython",
    "version": 3
   },
   "file_extension": ".py",
   "mimetype": "text/x-python",
   "name": "python",
   "nbconvert_exporter": "python",
   "pygments_lexer": "ipython3",
   "version": "3.8.10"
  }
 },
 "nbformat": 4,
 "nbformat_minor": 5
}
