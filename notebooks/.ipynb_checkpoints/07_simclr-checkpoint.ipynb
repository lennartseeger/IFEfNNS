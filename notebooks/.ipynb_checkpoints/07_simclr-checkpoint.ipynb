{
 "cells": [
  {
   "cell_type": "markdown",
   "id": "27361791-a1c9-4ee8-a52a-7f4a646111bc",
   "metadata": {},
   "source": [
    "# Nearest Neighbor Search using SimCLR\n",
    "\n",
    "**Author:** [Lennart Seeger], [András Béres](https://www.linkedin.com/in/andras-beres-789190210)<br>\n",
    "**Date created:** 2021/04/24<br>\n",
    "**Last modified:** 2023/03/24<br>"
   ]
  },
  {
   "cell_type": "code",
   "execution_count": null,
   "id": "c4aadb4e-8aff-4714-8547-eb686a3699e0",
   "metadata": {},
   "outputs": [],
   "source": [
    "import sys\n",
    "import os\n",
    "import keras\n",
    "from keras.applications.resnet import ResNet50\n",
    "from tensorflow.keras import models, layers, Input\n",
    "import tensorflow as tf\n",
    "import numpy as np\n",
    "import matplotlib.pyplot as plt\n",
    "from __future__ import print_function\n",
    "from tensorflow import keras\n",
    "import tensorflow_addons as tfa\n",
    "from keras.applications.resnet import ResNet50\n",
    "\n",
    "sys.path.insert(1, '../src')\n",
    "%load_ext autoreload\n",
    "%autoreload 2\n",
    "os.environ['CUDA_VISIBLE_DEVICES'] = '-1'\n",
    "\n",
    "from models.simclr import get_augmenter, get_encoder, ContrastiveModel\n",
    "from data.datasets import get_denmark\n",
    "from data.batch_generator import batch_generator_denmark\n",
    "from supportive.evaluate import evaluate_extractor\n",
    "from model_utility.learning_rate_scheduler import WarmUpCosine"
   ]
  },
  {
   "cell_type": "code",
   "execution_count": null,
   "id": "cc655756-0a74-4e3c-bcc6-dfdbc4c64d8e",
   "metadata": {},
   "outputs": [],
   "source": [
    "contrastive_augmentation = {\"min_area\": 0.25, \"brightness\": 0.6, \"jitter\": 0.2}\n",
    "classification_augmentation = {\"min_area\": 0.75, \"brightness\": 0.3, \"jitter\": 0.1}\n",
    "temperature=0.1\n",
    "width= 2048\n",
    "image_size=64\n",
    "batch_size=512\n",
    "num_epochs=50\n",
    "temperature=0.1\n",
    "x_train=np.load(\"../data/avg_std30.npy\")\n",
    "steps_per_epoch = len(x_train)//batch_size\n",
    "baseModel = ResNet50(weights='imagenet', include_top=False, input_tensor=Input(shape=(image_size, image_size, 3)))\n",
    "\n",
    "# Dataset hyperparameters\n",
    "image_size = 64\n",
    "image_channels = 3\n",
    "\n",
    "# OPTIMIZER\n",
    "learning_rate = 0.001\n",
    "weight_decay = 0.0001\n",
    "\n",
    "# Algorithm hyperparameters\n",
    "width = 2048\n",
    "\n",
    "# Stronger augmentations for contrastive, weaker ones for supervised training\n",
    "contrastive_augmentation = {\"min_area\": 0.25, \"brightness\": 0.6, \"jitter\": 0.2}\n",
    "classification_augmentation = {\"min_area\": 0.75, \"brightness\": 0.3, \"jitter\": 0.1}"
   ]
  },
  {
   "cell_type": "code",
   "execution_count": null,
   "id": "6d1f88f9-94ea-46e9-9ae9-77654e207214",
   "metadata": {},
   "outputs": [],
   "source": [
    "x_test, y_test = get_denmark(image_size=image_size)\n",
    "y_train=np.array([-1]*len(x_train))\n",
    "print(x_train.shape,y_train.shape)\n",
    "train_ds = tf.data.Dataset.from_tensor_slices((x_train,y_train))"
   ]
  },
  {
   "cell_type": "code",
   "execution_count": null,
   "id": "1e65aad4-ebf5-4f79-a1f0-9d13623c659f",
   "metadata": {},
   "outputs": [],
   "source": [
    "total_steps = steps_per_epoch * num_epochs\n",
    "warmup_epoch_percentage = 0.15\n",
    "warmup_steps = int(total_steps * warmup_epoch_percentage)\n",
    "scheduled_lrs = WarmUpCosine(\n",
    "    learning_rate_base=learning_rate,\n",
    "    total_steps=total_steps,\n",
    "    warmup_learning_rate=0.0,\n",
    "    warmup_steps=warmup_steps,\n",
    ")\n",
    "\n",
    "lrs = [scheduled_lrs(step) for step in range(total_steps)]\n",
    "plt.plot(lrs)\n",
    "plt.xlabel(\"Step\", fontsize=14)\n",
    "plt.ylabel(\"LR\", fontsize=14)\n",
    "plt.show()"
   ]
  },
  {
   "cell_type": "code",
   "execution_count": null,
   "id": "705c2ec4-d1e3-422f-8598-959b80191bea",
   "metadata": {},
   "outputs": [],
   "source": [
    "optimizer=tfa.optimizers.AdamW(learning_rate=scheduled_lrs, weight_decay=weight_decay)\n",
    "\n",
    "# Contrastive training\n",
    "pretraining_model = ContrastiveModel(**contrastive_augmentation, baseModel=baseModel, image_size=image_size, temperature=temperature, image_channels=image_channels, width=width)\n",
    "pretraining_model.compile(\n",
    "    contrastive_optimizer=optimizer,\n",
    "    probe_optimizer=optimizer,\n",
    "    run_eagerly=True,\n",
    ")"
   ]
  },
  {
   "cell_type": "code",
   "execution_count": null,
   "id": "176c858a-2235-4cce-a34a-353948a3a55c",
   "metadata": {},
   "outputs": [],
   "source": [
    "pretraining_history = pretraining_model.fit(\n",
    "    train_ds.batch(batch_size, drop_remainder=True).repeat(), epochs=num_epochs, steps_per_epoch = steps_per_epoch, validation_data=None#train_generator\n",
    ")\n",
    "extractor_model = keras.Sequential(\n",
    "    [\n",
    "        layers.Input((image_size, image_size, 3)),\n",
    "        pretraining_model.classification_augmenter,\n",
    "        pretraining_model.encoder,\n",
    "    ],\n",
    "    name=\"extraction_model\",\n",
    ")"
   ]
  },
  {
   "cell_type": "code",
   "execution_count": null,
   "id": "07c5539a-6553-4168-aa3e-0d5e7bc1f801",
   "metadata": {},
   "outputs": [],
   "source": [
    "# Note that even in the OO-style, we use `.pyplot.figure` to create the Figure.\n",
    "fig, ax = plt.subplots(figsize=(10, 5), layout='constrained')\n",
    "ax.plot(pretraining_history.history['c_acc'])\n",
    "ax.set_xlabel('Epoch', fontsize=14)  # Add an x-label to the axes.\n",
    "ax.set_ylabel('Convolutional Accuracy', fontsize=14)  # Add a y-label to the axes.\n",
    "ax.legend( fontsize=14)  # Add a legend.\n",
    "plt.legend()\n",
    "plt.show()\n",
    "fig.savefig('c_acc.png')"
   ]
  },
  {
   "cell_type": "code",
   "execution_count": null,
   "id": "8f0fd1d6-6b11-4604-8e2b-e0d886d9e630",
   "metadata": {},
   "outputs": [],
   "source": [
    "# Note that even in the OO-style, we use `.pyplot.figure` to create the Figure.\n",
    "fig, ax = plt.subplots(figsize=(10, 5), layout='constrained')\n",
    "ax.plot(pretraining_history.history['c_loss'])\n",
    "ax.set_xlabel('Epoch', fontsize=14)  # Add an x-label to the axes.\n",
    "ax.set_ylabel('Convolutional Loss', fontsize=14)  # Add a y-label to the axes.\n",
    "ax.legend( fontsize=14)  # Add a legend.\n",
    "plt.legend()\n",
    "plt.show()\n",
    "fig.savefig('c_loss.png')"
   ]
  },
  {
   "cell_type": "code",
   "execution_count": null,
   "id": "8cc7819b-b583-46ad-b9b4-406fbd3405c6",
   "metadata": {},
   "outputs": [],
   "source": [
    "model_resnet = ResNet50(weights='imagenet', include_top=False,input_shape=(image_size,image_size,3),pooling=\"avg\")"
   ]
  },
  {
   "cell_type": "code",
   "execution_count": null,
   "id": "a965c01d-0ac3-4b35-81f4-e81d1b5665b4",
   "metadata": {},
   "outputs": [],
   "source": [
    "path=\"../model/simclr/model\"\n",
    "pretraining_model.encoder.save(path)\n",
    "model_loaded = keras.models.load_model(path)"
   ]
  },
  {
   "cell_type": "code",
   "execution_count": null,
   "id": "e18d6013-7a98-4f6f-a278-8dcae01f0e43",
   "metadata": {},
   "outputs": [],
   "source": [
    "extractor_model = keras.Sequential(\n",
    "    [\n",
    "        layers.Input((image_size, image_size, 3)),\n",
    "        pretraining_model.classification_augmenter,\n",
    "        pretraining_model.encoder,\n",
    "    ],\n",
    "    name=\"extraction_model\",\n",
    ")"
   ]
  },
  {
   "cell_type": "code",
   "execution_count": null,
   "id": "479120b2-8ab4-4bfa-9774-5eae713e7bce",
   "metadata": {},
   "outputs": [],
   "source": [
    "print(x_test.shape, y_test.shape)"
   ]
  },
  {
   "cell_type": "code",
   "execution_count": null,
   "id": "e8ee4a80-d017-4572-ba6d-8a643a4e959c",
   "metadata": {},
   "outputs": [],
   "source": [
    "model=get_encoder(baseModel)"
   ]
  },
  {
   "cell_type": "code",
   "execution_count": null,
   "id": "caa90648-5f30-4fe3-80fb-9235ce11d983",
   "metadata": {},
   "outputs": [],
   "source": [
    "print(\"extractor_model: \", evaluate_extractor(extractor_model.predict, x_test, y_test, neighbors=10))\n",
    "print(\"model_resnet: \", evaluate_extractor(model_resnet.predict, x_test, y_test, neighbors=10))"
   ]
  },
  {
   "cell_type": "code",
   "execution_count": null,
   "id": "3177be3a-7dae-49e5-ae2c-c211e8de7b64",
   "metadata": {},
   "outputs": [],
   "source": [
    "with open(\"../model/simclr/results.txt\", 'a') as file:\n",
    "    file.write('\\n------------------------------------------')\n",
    "    file.write(\"\\nextractor_model: : \"+str(evaluate_extractor(extractor_model.predict, x_test, y_test, neighbors=10)))\n",
    "    file.write(\"\\nbatch_size: \"+str(batch_size))\n",
    "    file.write(\"\\nnum_epochs: \"+str(num_epochs))\n",
    "    file.write(\"\\nsteps_per_epoch: \"+str(steps_per_epoch))\n",
    "    file.write(\"\\noptimizer: \"+str(optimizer))\n",
    "    file.write(\"\\ntemperature: \"+str(temperature))\n",
    "    file.write(\"\\ncontrastive_augmentation: \"+str(contrastive_augmentation))\n",
    "    file.write(\"\\nclassification_augmentation: \"+str(classification_augmentation))\n",
    "    stringlist = []\n",
    "    model.summary(print_fn=lambda x: stringlist.append(x))\n",
    "    short_model_summary = \"\\n\".join(stringlist)\n",
    "    file.write(\"\\n\"+short_model_summary)"
   ]
  }
 ],
 "metadata": {
  "kernelspec": {
   "display_name": "Python 3 (ipykernel)",
   "language": "python",
   "name": "python3"
  },
  "language_info": {
   "codemirror_mode": {
    "name": "ipython",
    "version": 3
   },
   "file_extension": ".py",
   "mimetype": "text/x-python",
   "name": "python",
   "nbconvert_exporter": "python",
   "pygments_lexer": "ipython3",
   "version": "3.8.10"
  }
 },
 "nbformat": 4,
 "nbformat_minor": 5
}
