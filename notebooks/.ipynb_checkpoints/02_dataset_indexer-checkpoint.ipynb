{
 "cells": [
  {
   "cell_type": "markdown",
   "id": "9228665d-59d4-404a-9a11-15dbcb251af9",
   "metadata": {},
   "source": [
    "# Indexer for relevant patches in satellite images\n",
    "\n",
    "**Author:** [Lennart Seeger]<br>\n",
    "**Date created:** 2021/04/24<br>\n",
    "**Last modified:** 2023/03/24<br>"
   ]
  },
  {
   "cell_type": "code",
   "execution_count": null,
   "id": "30a21f02-be51-48e3-8922-542c54a709b7",
   "metadata": {},
   "outputs": [],
   "source": [
    "import sys\n",
    "sys.path.insert(1, '../src')\n",
    "%load_ext autoreload\n",
    "%autoreload 2\n",
    "from data.batch_generator import batch_generator, batch_generator_denmark\n",
    "import rasterio as rio\n",
    "import numpy as np"
   ]
  },
  {
   "cell_type": "code",
   "execution_count": null,
   "id": "17d13570-165c-4776-aa44-4f9ac4f4ef69",
   "metadata": {},
   "outputs": [],
   "source": [
    "# Parameters\n",
    "image_size=256\n",
    "batch_size=10000\n",
    "cog=\"/home/jovyan/work/satellite_data/all_cog.tif\"\n",
    "with rio.open(cog) as dataset:\n",
    "    height = dataset.height\n",
    "    width = dataset.width"
   ]
  },
  {
   "cell_type": "code",
   "execution_count": null,
   "id": "1c04dd3b-f666-46af-b4cd-6f817ee33ec5",
   "metadata": {},
   "outputs": [],
   "source": [
    "valid_positions=np.zeros(2).reshape(1,2)\n",
    "batch_counter=0\n",
    "for element in batch_generator_denmark(cog=cog, size=image_size, batch_size=batch_size):\n",
    "    batch_counter+=1\n",
    "    if len(np.array(element))>0:\n",
    "        valid_positions=np.append(valid_positions,np.array(element),axis=0)\n",
    "    print(valid_positions.shape)\n",
    "    print(f\"progress: {((batch_counter*batch_size/((height*width)/(image_size*image_size)))*100):.2f}%\")"
   ]
  },
  {
   "cell_type": "code",
   "execution_count": null,
   "id": "d0ed919d-e5e1-431e-a3f5-6ae113786bf1",
   "metadata": {},
   "outputs": [],
   "source": [
    "np.save(\"../data/valid_positions\",valid_positions[1:])"
   ]
  }
 ],
 "metadata": {
  "kernelspec": {
   "display_name": "Python 3 (ipykernel)",
   "language": "python",
   "name": "python3"
  },
  "language_info": {
   "codemirror_mode": {
    "name": "ipython",
    "version": 3
   },
   "file_extension": ".py",
   "mimetype": "text/x-python",
   "name": "python",
   "nbconvert_exporter": "python",
   "pygments_lexer": "ipython3",
   "version": "3.8.10"
  }
 },
 "nbformat": 4,
 "nbformat_minor": 5
}
