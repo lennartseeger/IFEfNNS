{
 "cells": [
  {
   "cell_type": "markdown",
   "id": "239dfca9-6f48-4ff4-ac6d-193eaf144da7",
   "metadata": {},
   "source": [
    "# Evaluation pipeline for nearest neighbor search in remote sensing data\n",
    "\n",
    "**Author:** [Lennart Seeger]<br>\n",
    "**Date created:** 2021/04/24<br>\n",
    "**Last modified:** 2023/03/24<br>"
   ]
  },
  {
   "cell_type": "code",
   "execution_count": null,
   "id": "ecfd7678-299b-41b2-844f-6b4896a750a6",
   "metadata": {},
   "outputs": [],
   "source": [
    "from keras.applications.resnet import ResNet50\n",
    "import keras\n",
    "from tensorflow.keras import models, layers, Input\n",
    "import os\n",
    "import numpy as np\n",
    "import umap\n",
    "import sys\n",
    "from tensorflow.keras.applications.resnet50 import preprocess_input, decode_predictions\n",
    "import matplotlib.pyplot as plt\n",
    "import copy\n",
    "import random\n",
    "from scipy.spatial.distance import cosine\n",
    "\n",
    "sys.path.insert(1, '../src')\n",
    "%load_ext autoreload\n",
    "%autoreload 2\n",
    "\n",
    "from supportive.reshape_images import reshape_images\n",
    "from data.datasets import get_mlrsnet, get_denmark, get_ucmerced\n",
    "from supportive.evaluate import evaluate_extractor, evaluate_extractor_classes\n",
    "from supportive.visualize import visualize_brute_force, visualize_faiss\n",
    "os.environ['CUDA_VISIBLE_DEVICES'] = '-1'"
   ]
  },
  {
   "cell_type": "markdown",
   "id": "f7871158-f782-40f6-aa35-0143c7572fe2",
   "metadata": {},
   "source": [
    "# 1. Parameter Initialisation, Model Loading, Dataset Loading, Feature Extraction"
   ]
  },
  {
   "cell_type": "code",
   "execution_count": null,
   "id": "060cd681-a114-4809-988d-e194fffbeb16",
   "metadata": {},
   "outputs": [],
   "source": [
    "# definition of parameters\n",
    "image_size = 64\n",
    "image_channels=3\n",
    "dataset=\"denmark\"\n",
    "model=\"simclr\" #feature_extraction, transfer_learning, simclr, nnclr, mae\n",
    "\n",
    "# faiss parameters\n",
    "num_neighbors=10\n",
    "embedding_size = 2048\n",
    "nlist = 20"
   ]
  },
  {
   "cell_type": "code",
   "execution_count": null,
   "id": "9c2c452e-0f1f-49c9-9153-0bc0906cc146",
   "metadata": {},
   "outputs": [],
   "source": [
    "# SIMCLR\n",
    "if model== \"simclr\":\n",
    "    from models.simclr import get_augmenter\n",
    "    path=\"../model/simclr/model\"\n",
    "    classification_augmentation = {\"min_area\": 0.75, \"brightness\": 0.3, \"jitter\": 0.1}\n",
    "    model_loaded = keras.models.load_model(path)\n",
    "    extractor_model = keras.Sequential(\n",
    "            [\n",
    "                layers.Input((image_size, image_size, 3)),\n",
    "                get_augmenter(**classification_augmentation, image_size=image_size, image_channels=image_channels),\n",
    "                model_loaded,\n",
    "            ],\n",
    "            name=\"extraction_model\",\n",
    "        )"
   ]
  },
  {
   "cell_type": "code",
   "execution_count": null,
   "id": "170011e6-8531-4e48-ba51-db4be3584985",
   "metadata": {},
   "outputs": [],
   "source": [
    "#NNCLR\n",
    "if model == \"nnclr\":\n",
    "    from models.nnclr import get_augmenter\n",
    "    classification_augmentation = {\n",
    "        \"brightness\": 0.2,\n",
    "        \"name\": \"classification_augmenter\",\n",
    "        \"scale\": (0.5, 1.0),\n",
    "    }\n",
    "    path=\"../model/nnclr/model\"\n",
    "    model_loaded = keras.models.load_model(path)\n",
    "    extractor_model = keras.Sequential(\n",
    "            [\n",
    "                layers.Input((image_size, image_size, 3)),\n",
    "                get_augmenter(**classification_augmentation, image_size=image_size),\n",
    "                model_loaded,\n",
    "            ],\n",
    "            name=\"extraction_model\",\n",
    "        )"
   ]
  },
  {
   "cell_type": "code",
   "execution_count": null,
   "id": "348d90f4-bb48-4366-816c-8d47bdb17cee",
   "metadata": {},
   "outputs": [],
   "source": [
    "if model == \"feature_extraction\":\n",
    "    extractor_model = ResNet50(weights='imagenet', include_top=False,input_shape=(image_size,image_size,3),pooling=\"avg\")        "
   ]
  },
  {
   "cell_type": "code",
   "execution_count": null,
   "id": "ea9e8c3a-ef3e-479a-850c-1e44d9ea40e0",
   "metadata": {},
   "outputs": [],
   "source": [
    "if model == \"transfer_learning\":\n",
    "    transfer_model = keras.models.load_model('../model/transfer_learning/model')\n",
    "    print(\"Feature extraction from the model\")\n",
    "    extractor_model = keras.Model(\n",
    "       inputs=transfer_model.inputs,\n",
    "       outputs=transfer_model.get_layer(name=\"my_intermediate_layer\").output,\n",
    "    )"
   ]
  },
  {
   "cell_type": "code",
   "execution_count": null,
   "id": "967d7779-003f-4e93-b514-550cbb3b95d7",
   "metadata": {},
   "outputs": [],
   "source": [
    "if model== \"mae\":\n",
    "    from models.mae import get_test_augmentation_model, Patches, PatchEncoder\n",
    "    path=\"../model/mae/model\"\n",
    "    model_loaded = keras.models.load_model(path)\n",
    "    # mae parameters\n",
    "    patch_size=4\n",
    "    enc_projection_dim = 64\n",
    "    mask_proportion=0.75\n",
    "    patch_layer=Patches(patch_size)\n",
    "    patch_encoder = PatchEncoder(patch_size, enc_projection_dim, mask_proportion)\n",
    "    patch_encoder.downstream = True\n",
    "    extractor_model = keras.Sequential(\n",
    "    [\n",
    "        layers.Input((image_size, image_size, 3)),\n",
    "        get_test_augmentation_model(image_size),# try with and without\n",
    "        patch_layer,\n",
    "        patch_encoder,\n",
    "        model_loaded,#encoder\n",
    "        layers.BatchNormalization(),  # Refer to A.1 (Linear probing).\n",
    "        layers.GlobalAveragePooling1D(),\n",
    "    ],\n",
    "    name=\"extraction_model\",)"
   ]
  },
  {
   "cell_type": "code",
   "execution_count": null,
   "id": "7811cc9c-6408-4f21-909f-715c8a4a1db5",
   "metadata": {},
   "outputs": [],
   "source": [
    "if dataset==\"mlrsnet\":\n",
    "    x_test, y_test = get_denmark(image_size=image_size)\n",
    "    x_test = reshape_images(x_test)\n",
    "    print(x_test.shape)\n",
    "    print(y_test.shape)"
   ]
  },
  {
   "cell_type": "code",
   "execution_count": null,
   "id": "ab07f7f0-e180-4b9f-a2ed-01f21d86357c",
   "metadata": {},
   "outputs": [],
   "source": [
    "if dataset==\"mlrsnet\":\n",
    "    y_test[y_test==\"airplane\"] = 0\n",
    "    y_test[y_test==\"airport\"] = 1\n",
    "    y_test[y_test==\"bareland\"] = 2\n",
    "    y_test[y_test==\"baseball_diamond\"] = 3\n",
    "    y_test[y_test==\"basketball_court\"] = 4\n",
    "    y_test[y_test==\"beach\"] = 5\n",
    "    y_test[y_test==\"bridge\"] = 6\n",
    "    y_test[y_test==\"chaparral\"] = 7\n",
    "    y_test[y_test==\"cloud\"] = 8\n",
    "    y_test[y_test==\"commercial_area\"] = 9\n",
    "    y_test[y_test==\"dense_residential_area\"] = 10\n",
    "    y_test[y_test==\"desert\"] = 11\n",
    "    y_test[y_test==\"eroded_farmland\"] = 12\n",
    "    y_test[y_test==\"farmland\"] = 13\n",
    "    y_test[y_test==\"forest\"] = 14\n",
    "    y_test[y_test==\"freeway\"] = 15\n",
    "    y_test[y_test==\"golf_course\"] = 16\n",
    "    y_test[y_test==\"ground_track_field\"] = 17\n",
    "    y_test[y_test==\"harbor&port\"] = 18\n",
    "    y_test[y_test==\"industrial_area\"] = 19\n",
    "    y_test[y_test==\"intersection\"] = 20\n",
    "    y_test[y_test==\"island\"] = 21\n",
    "    y_test[y_test==\"lake\"] = 22\n",
    "    y_test[y_test==\"meadow\"] = 23\n",
    "    y_test[y_test==\"mobile_home_park\"] = 24\n",
    "    y_test[y_test==\"mountain\"] = 25\n",
    "    y_test[y_test==\"overpass\"] = 26\n",
    "    y_test[y_test==\"park\"] = 27\n",
    "    y_test[y_test==\"parking_lot\"] = 28\n",
    "    y_test[y_test==\"parkway\"] = 29\n",
    "    y_test[y_test==\"railway\"] = 30\n",
    "    y_test[y_test==\"railway_station\"] = 31\n",
    "    y_test[y_test==\"river\"] = 32\n",
    "    y_test[y_test==\"roundabout\"] = 33\n",
    "    y_test[y_test==\"shipping_yard\"] = 34\n",
    "    y_test[y_test==\"snowberg\"] = 35\n",
    "    y_test[y_test==\"sparse_residential_area\"] = 36\n",
    "    y_test[y_test==\"stadium\"] = 37\n",
    "    y_test[y_test==\"storage_tank\"] = 38\n",
    "    y_test[y_test==\"swimming_pool\"] = 39\n",
    "    y_test[y_test==\"swimmimg_pool\"] = 39\n",
    "    y_test[y_test==\"tennis_court\"] = 40\n",
    "    y_test[y_test==\"terrace\"] = 41\n",
    "    y_test[y_test==\"transmission_tower\"] = 42\n",
    "    y_test[y_test==\"vegetable_greenhouse\"] = 43\n",
    "    y_test[y_test==\"wetland\"] = 44\n",
    "    y_test[y_test==\"wind_turbine\"] = 45\n",
    "    \n",
    "    classes_range = 46\n",
    "    \n",
    "    classesnames = [\"airplane\", \"airport\", \"bareland\", \"baseball_diamond\", \"basketball_court\", \"beach\", \"bridge\", \"chaparral\", \"cloud\",\"commercial_area\", \"dense_residential_area\", \"desert\", \"eroded_farmland\", \"farmland\", \"forest\", \"freeway\", \"golf_course\", \"ground_track_field\", \"harbor&port\", \"industrial_area\", \"intersection\", \"island\", \"lake\", \"meadow\", \"mobile_home_park\", \"mountain\", \"overpass\", \"park\", \"parking_lot\", \"parkway\", \"railway\", \"railway_station\", \"river\", \"roundabourt\", \"shipping_yard\", \"snowberg\", \"sparse_residential_area\", \"stadium\", \"storage_tank\", \"swimming_pool\", \"tennis_court\", \"terrace\", \"transmission_tower\", \"vegetable_greenhouse\", \"wetland\", \"wind_turbine\"]"
   ]
  },
  {
   "cell_type": "code",
   "execution_count": null,
   "id": "bf465355-64d3-4b7f-9c8d-2096801f8711",
   "metadata": {},
   "outputs": [],
   "source": [
    "if dataset==\"denmark\":\n",
    "    train=np.load(\"../data/denmark.npz\")\n",
    "    x_test = reshape_images(train['images'])\n",
    "    y_test = train['labels']\n",
    "    print(x_test.shape)\n",
    "    print(y_test.shape)"
   ]
  },
  {
   "cell_type": "code",
   "execution_count": null,
   "id": "4458bd08-8c56-40cb-879d-a40f18c513f8",
   "metadata": {},
   "outputs": [],
   "source": [
    "if dataset==\"denmark\":\n",
    "    y_test[y_test==\"agricultural_brown\"] = 0\n",
    "    y_test[y_test==\"agricultural_green\"] = 1\n",
    "    y_test[y_test==\"big_buildings\"] = 2\n",
    "    y_test[y_test==\"brown_buildings\"] = 3\n",
    "    y_test[y_test==\"coast\"] = 4\n",
    "    y_test[y_test==\"curve\"] = 5\n",
    "    y_test[y_test==\"forest\"] = 6\n",
    "    y_test[y_test==\"grey_buildings\"] = 7\n",
    "    y_test[y_test==\"harbor\"] = 8\n",
    "    y_test[y_test==\"highway\"] = 9\n",
    "    y_test[y_test==\"lake\"] = 10\n",
    "    y_test[y_test==\"parking_lot_crooked\"] = 11\n",
    "    y_test[y_test==\"parking_lot_straight\"] = 12\n",
    "    y_test[y_test==\"rail\"] = 13\n",
    "    y_test[y_test==\"river\"] = 14\n",
    "    y_test[y_test==\"road_buildings\"] = 15\n",
    "    y_test[y_test==\"round_water\"] = 16\n",
    "    y_test[y_test==\"silo_big\"] = 17\n",
    "    y_test[y_test==\"silo_small\"] = 18\n",
    "    y_test[y_test==\"single_road\"] = 19\n",
    "    y_test[y_test==\"solar\"] = 20\n",
    "    y_test[y_test==\"t_crossing\"] = 21\n",
    "    y_test[y_test==\"tree_line\"] = 22\n",
    "    y_test[y_test==\"water\"] = 23\n",
    "    y_test[y_test==\"windmill\"] = 24\n",
    "\n",
    "    classes_range = 25\n",
    "\n",
    "    classesnames = [\"agricultural_brown\", \"agricultural_green\", \"big_buildings\", \"brown_buildings\", \"coast\", \"curve\", \"forest\", \"grey_buildings\", \"harbor\", \"highway\", \"lake\", \"parking_lot_crooked\", \"parking_lot_straight\", \"rail\", \"river\", \"road_buildings\", \"round_water\", \"silo_big\", \"silo_small\", \"single_road\", \"solar\", \"t_crossing\", \"tree_line\", \"water\", \"windmill\"]"
   ]
  },
  {
   "cell_type": "code",
   "execution_count": null,
   "id": "f885e22c-702c-4f78-8ec9-1e17fb9c561c",
   "metadata": {},
   "outputs": [],
   "source": [
    "# showing number of images per class\n",
    "for i in range(classes_range):\n",
    "    print(f\"Examples of {i} ({classesnames[i]}) : {np.count_nonzero(y_test==i)}\")"
   ]
  },
  {
   "cell_type": "code",
   "execution_count": null,
   "id": "9d8e4322-6fa8-4e1e-bd1c-2966e092fb35",
   "metadata": {},
   "outputs": [],
   "source": [
    "x_test_original=x_test\n",
    "if model == \"feature_extraction\":\n",
    "    x_test_original=x_test\n",
    "    x_test=preprocess_input(x_test)\n",
    "y_test = y_test.astype(\"int32\")\n",
    "x_test_vectors=extractor_model.predict(x_test)\n",
    "x_test_vectors.shape"
   ]
  },
  {
   "cell_type": "code",
   "execution_count": null,
   "id": "2f7eafe5-440e-4d84-905c-6a3facc2384a",
   "metadata": {},
   "outputs": [],
   "source": [
    "# calculating standard deviation for each class\n",
    "for i in range(classes_range):\n",
    "    sum=0\n",
    "    x_test_class=x_test[y_test==i]\n",
    "    print(classesnames[i])\n",
    "    for element in x_test_class:\n",
    "        sum += ((element[:,:,0].std()+element[:,:,1].std()+element[:,:,2].std())/3)\n",
    "    print(sum/20)"
   ]
  },
  {
   "cell_type": "code",
   "execution_count": null,
   "id": "5a82fde5-ecae-4e25-bf53-f18a3286f862",
   "metadata": {},
   "outputs": [],
   "source": [
    "x_test=x_test[0:500]\n",
    "y_test=y_test[0:500]"
   ]
  },
  {
   "cell_type": "markdown",
   "id": "b300c7b7-0b81-4487-a4d9-e4f8b86a8959",
   "metadata": {},
   "source": [
    "# 2. Calculating Neighbor Accuracy"
   ]
  },
  {
   "cell_type": "code",
   "execution_count": null,
   "id": "f9d8c456-56bf-49a5-bd5f-1d6be8c7371e",
   "metadata": {},
   "outputs": [],
   "source": [
    "print(\"extractor_model: \", evaluate_extractor(extractor_model.predict, x_test, y_test, neighbors=10))"
   ]
  },
  {
   "cell_type": "markdown",
   "id": "f209f7df-bde7-481e-a6cf-6b1b74bc0eb9",
   "metadata": {},
   "source": [
    "# 3. Calculating Neighbor Accuracy per Class"
   ]
  },
  {
   "cell_type": "code",
   "execution_count": null,
   "id": "982c6a60-5c26-4ed1-905c-e5211d730dea",
   "metadata": {},
   "outputs": [],
   "source": [
    "evaluate_extractor_classes(extractor_model.predict, x_test, y_test, classesnames)"
   ]
  },
  {
   "cell_type": "markdown",
   "id": "62812916-b590-4eb0-8687-a31ace8413e8",
   "metadata": {},
   "source": [
    "# 4. 2-D Visualisation of Feature Vectors"
   ]
  },
  {
   "cell_type": "code",
   "execution_count": null,
   "id": "66c30ffe-4c2f-48d9-a546-9fb45ee5c32c",
   "metadata": {},
   "outputs": [],
   "source": [
    "reducer = umap.UMAP()\n",
    "embedding = reducer.fit_transform(x_test_vectors)\n",
    "embedding.shape"
   ]
  },
  {
   "cell_type": "code",
   "execution_count": null,
   "id": "6df2455a-97b0-4285-903d-69384528e637",
   "metadata": {},
   "outputs": [],
   "source": [
    "colors = classesnames\n",
    "\n",
    "fig, ax = plt.subplots(figsize=(10,5), dpi=300)\n",
    "plt.scatter(embedding[:,0],embedding[:,1], c=y_test)\n",
    "ax.tick_params(axis='both', which='major', labelsize=16)\n",
    "cb = plt.colorbar()\n",
    "loc = np.arange(0,max(y_test),max(y_test)/float(len(colors)))\n",
    "cb.set_ticks(loc)\n",
    "cb.set_ticklabels(colors)\n",
    "fig.savefig(model+'_2d.png')"
   ]
  },
  {
   "cell_type": "markdown",
   "id": "fc5d455c-7f91-49c7-9334-2556f8d9eb41",
   "metadata": {},
   "source": [
    "# 5. Neighbor Accuracy Mistakes per Class"
   ]
  },
  {
   "cell_type": "code",
   "execution_count": null,
   "id": "7e9bc9a3-7608-4696-9039-f8c214e55ba3",
   "metadata": {},
   "outputs": [],
   "source": [
    "#returned classes\n",
    "from scipy.spatial.distance import cosine\n",
    "from supportive.evaluate import determine_predicted_classes\n",
    "matrix=determine_predicted_classes(extractor_model, x_test, y_test, classesnames)\n",
    "matrix.shape"
   ]
  },
  {
   "cell_type": "code",
   "execution_count": null,
   "id": "254983e3-631d-43d5-a559-7f8f2520ed07",
   "metadata": {},
   "outputs": [],
   "source": [
    "matrix = matrix.astype('int32')\n",
    "matrix_root=np.sqrt(np.sqrt(matrix))\n",
    "fig, ax = plt.subplots(figsize=(10, 10),dpi=100)\n",
    "im = ax.imshow(matrix_root)#, cmap = 'magma' )\n",
    "\n",
    "# Show all ticks and label them with the respective list entries\n",
    "ax.set_xticks(np.arange(len(classesnames)), labels=classesnames)\n",
    "ax.set_yticks(np.arange(len(classesnames)), labels=classesnames)\n",
    "\n",
    "# Rotate the tick labels and set their alignment.\n",
    "plt.setp(ax.get_xticklabels(), rotation=45, ha=\"right\",\n",
    "         rotation_mode=\"anchor\")\n",
    "\n",
    "# Loop over data dimensions and create text annotations.\n",
    "for i in range(len(classesnames)):\n",
    "    for j in range(len(classesnames)):\n",
    "        text = ax.text(j, i, matrix[i, j],\n",
    "                       ha=\"center\", va=\"center\", color=\"w\")\n",
    "\n",
    "fig.tight_layout()\n",
    "plt.show()\n",
    "fig.savefig('classes-of-cutouts-predicted-as-neighbours-'+model+'.png')"
   ]
  },
  {
   "cell_type": "markdown",
   "id": "3f523d3b-b1b9-45d9-9e80-6d6fba13c7f6",
   "metadata": {},
   "source": [
    "# 6. Calculated Neighbors Visualized"
   ]
  },
  {
   "cell_type": "markdown",
   "id": "a35387fe-c4bd-4ff1-88cd-8c457e5c9640",
   "metadata": {},
   "source": [
    "## Brute Force Neighbours from testset"
   ]
  },
  {
   "cell_type": "code",
   "execution_count": null,
   "id": "53f0323e-0a34-4d4d-a405-fa99244629b7",
   "metadata": {},
   "outputs": [],
   "source": [
    "x_test_vectors=extractor_model.predict(x_test)"
   ]
  },
  {
   "cell_type": "code",
   "execution_count": null,
   "id": "a4293f36-2012-4cbc-b7f5-7b1eef20df86",
   "metadata": {},
   "outputs": [],
   "source": [
    "random_int = random.randrange(0,len(x_test))\n",
    "min_list = []\n",
    "for element in x_test_vectors:\n",
    "    min_list.append(cosine(element,x_test_vectors[random_int]))\n",
    "index_min = np.argmin(min_list)\n",
    "\n",
    "indices_reduced = range(len(min_list))\n",
    "a, indices_reduced = zip( *sorted( zip(min_list, indices_reduced)))\n",
    "\n",
    "# plot original image as first\n",
    "plt.figure(figsize=(20, 4),dpi=100)\n",
    "ax = plt.subplot(2, 6, 1)\n",
    "plt.imshow(x_test_original[random_int])\n",
    "ax.get_xaxis().set_visible(False)\n",
    "ax.get_yaxis().set_visible(False)\n",
    "\n",
    "# plot calculated nearest neighbors\n",
    "for i in range(10):\n",
    "    ax = plt.subplot(2, 6, i + 2)\n",
    "    plt.imshow(x_test_original[indices_reduced[i]])\n",
    "    ax.get_xaxis().set_visible(False)\n",
    "    ax.get_yaxis().set_visible(False)\n",
    "plt.show()"
   ]
  },
  {
   "cell_type": "markdown",
   "id": "6342e82b-196f-4dd6-8cea-203db7f88dd2",
   "metadata": {},
   "source": [
    "## Neighbors from Denmark"
   ]
  },
  {
   "cell_type": "code",
   "execution_count": null,
   "id": "da86fb37-e519-480c-a03b-c3c230422734",
   "metadata": {},
   "outputs": [],
   "source": [
    "x_final=np.load(\"../data/avg_std0.npy\")"
   ]
  },
  {
   "cell_type": "code",
   "execution_count": null,
   "id": "d9b9f475-9eb0-4b82-831c-46933faacc3f",
   "metadata": {},
   "outputs": [],
   "source": [
    "x_final_vectors=np.zeros(embedding_size).reshape(1,embedding_size)\n",
    "for i in range(0,len(x_final)//500):\n",
    "    element=x_final[i*500:(i+1)*500]\n",
    "    something=copy.deepcopy(element)\n",
    "    if model==\"feature_extraction\":\n",
    "        something= extractor_model(preprocess_input(something))\n",
    "    something= extractor_model(preprocess_input(something))\n",
    "    x_final_vectors=np.append(x_final_vectors, something, axis=0)\n",
    "    print(i)\n",
    "\n",
    "x_final_vectors=x_final_vectors[1:]\n",
    "print(x_final_vectors.shape)"
   ]
  },
  {
   "cell_type": "code",
   "execution_count": null,
   "id": "c0fd49a2-a2cc-4cb2-b015-e074bbee1921",
   "metadata": {},
   "outputs": [],
   "source": [
    "random_int = random.randrange(0,len(x_final))\n",
    "num_neighbors=100"
   ]
  },
  {
   "cell_type": "markdown",
   "id": "0fb02b76-da84-4269-985c-2ba88727ad04",
   "metadata": {},
   "source": [
    "### Brute Force Neighbors from Denmark"
   ]
  },
  {
   "cell_type": "code",
   "execution_count": null,
   "id": "131244ff-9773-4882-b1e9-d11933080cf0",
   "metadata": {},
   "outputs": [],
   "source": [
    "visualize_brute_force(x_final_vectors, x_final, random_int)"
   ]
  },
  {
   "cell_type": "markdown",
   "id": "0b8bef3b-d72d-4205-8ea7-b71f22b00772",
   "metadata": {},
   "source": [
    "### Approximate Neigbors from Denmark with FAISS"
   ]
  },
  {
   "cell_type": "code",
   "execution_count": null,
   "id": "8654525b-cc90-4c0e-babc-5ff3294a3361",
   "metadata": {},
   "outputs": [],
   "source": [
    "sys.path.insert(1, '../src/faiss/build/faiss/python/')\n",
    "import faiss\n",
    "%load_ext autoreload\n",
    "%autoreload 2"
   ]
  },
  {
   "cell_type": "code",
   "execution_count": null,
   "id": "f90b7e38-f85c-409d-b0ca-9f55a9c188aa",
   "metadata": {},
   "outputs": [],
   "source": [
    "x_final_vectors=x_final_vectors.astype('float32')\n",
    "\n",
    "quantizer = faiss.IndexFlatL2(embedding_size)\n",
    "index = faiss.IndexIVFFlat(quantizer, embedding_size, nlist, faiss.METRIC_L2)#METRIC_L2\n",
    "\n",
    "assert not index.is_trained\n",
    "index.train(x_final_vectors)\n",
    "assert index.is_trained\n",
    "\n",
    "index.add(x_final_vectors)"
   ]
  },
  {
   "cell_type": "code",
   "execution_count": null,
   "id": "11ffa8a7-5a56-4e82-b300-3ba8e41a3bad",
   "metadata": {},
   "outputs": [],
   "source": [
    "D, I = index.search(x_final_vectors[random_int:random_int+1], num_neighbors)"
   ]
  },
  {
   "cell_type": "code",
   "execution_count": null,
   "id": "e603cf85-2c4d-4b93-901f-ff43672ad06c",
   "metadata": {},
   "outputs": [],
   "source": [
    "# Get indices of neighbors\n",
    "min_list = []\n",
    "for element in x_final_vectors:\n",
    "    min_list.append(cosine(element,x_final_vectors[random_int]))\n",
    "\n",
    "indices_reduced = range(len(min_list))\n",
    "a, indices_reduced = zip( *sorted( zip(min_list, list(indices_reduced))))"
   ]
  },
  {
   "cell_type": "code",
   "execution_count": null,
   "id": "1c46c0d0-9ec7-4050-a417-62bbb6e89449",
   "metadata": {},
   "outputs": [],
   "source": [
    "visualize_faiss(num_neighbors, x_final, random_int, index, x_final_vectors) "
   ]
  },
  {
   "cell_type": "markdown",
   "id": "52c08c06-11c9-4ef7-b1be-9db10496edfd",
   "metadata": {},
   "source": [
    "# 7. Evaluate FAISS"
   ]
  },
  {
   "cell_type": "code",
   "execution_count": null,
   "id": "1cd13271-07de-446c-9b4c-0a6e70e2488f",
   "metadata": {},
   "outputs": [],
   "source": [
    "# Fraction of overlapping neighbors returned by FAISS and brute force\n",
    "(num_neighbors-(len(set(list(I[0][0:num_neighbors])+list(indices_reduced[0:num_neighbors])))-num_neighbors))/num_neighbors"
   ]
  },
  {
   "cell_type": "code",
   "execution_count": null,
   "id": "5b951c36-538b-42e9-8b4f-6d4fa93df2a8",
   "metadata": {},
   "outputs": [],
   "source": [
    "# ratio how much worse the FAISS neighbors are\n",
    "\n",
    "# brute force\n",
    "counter_brute_force = 0\n",
    "for element in indices_reduced[0:num_neighbors]:\n",
    "    counter_brute_force += cosine(x_final_vectors[element],x_final_vectors[random_int])\n",
    "\n",
    "# approximation\n",
    "counter_approximations = 0\n",
    "for element in I[0][0:num_neighbors]:\n",
    "    counter_approximations += cosine(x_final_vectors[element], x_final_vectors[random_int])\n",
    "    \n",
    "print(\"ratio distances: \"+ str(counter_approximations/counter_brute_force))"
   ]
  }
 ],
 "metadata": {
  "kernelspec": {
   "display_name": "Python 3 (ipykernel)",
   "language": "python",
   "name": "python3"
  },
  "language_info": {
   "codemirror_mode": {
    "name": "ipython",
    "version": 3
   },
   "file_extension": ".py",
   "mimetype": "text/x-python",
   "name": "python",
   "nbconvert_exporter": "python",
   "pygments_lexer": "ipython3",
   "version": "3.8.10"
  }
 },
 "nbformat": 4,
 "nbformat_minor": 5
}
