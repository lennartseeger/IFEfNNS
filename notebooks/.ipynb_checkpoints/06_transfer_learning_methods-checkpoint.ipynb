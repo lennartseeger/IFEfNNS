{
 "cells": [
  {
   "cell_type": "markdown",
   "id": "70289c52-f4eb-4183-99ea-8dc98dac1633",
   "metadata": {},
   "source": [
    "# Image classification for feature extraction\n",
    "\n",
    "**Author:** [Lennart Seeger], [fchollet]<br>\n",
    "**Date created:** 2020/04/27<br>\n",
    "**Last modified:** 2023/03/24<br>"
   ]
  },
  {
   "cell_type": "code",
   "execution_count": null,
   "id": "28b2ecd3-7dee-4d62-b198-8f6846f16caa",
   "metadata": {},
   "outputs": [],
   "source": [
    "import sys\n",
    "from tensorflow.keras import models, layers, Input\n",
    "import numpy as np\n",
    "import tensorflow as tf\n",
    "import os\n",
    "from tensorflow.keras.utils import to_categorical\n",
    "import matplotlib.pyplot as plt\n",
    "from keras.layers import Dense\n",
    "from keras.applications.resnet import ResNet50\n",
    "%matplotlib inline\n",
    "from tensorflow import keras\n",
    "from keras.applications.resnet import ResNet50\n",
    "\n",
    "sys.path.insert(1, '../src')\n",
    "%load_ext autoreload\n",
    "%autoreload 2\n",
    "os.environ['CUDA_VISIBLE_DEVICES'] = '-1'\n",
    "\n",
    "from supportive.stable_shuffle import stable_shuffle\n",
    "from supportive.evaluate import evaluate_extractor\n",
    "from data.datasets import get_mlrsnet, get_denmark, get_ucmerced"
   ]
  },
  {
   "cell_type": "code",
   "execution_count": null,
   "id": "bdb19490-4c0a-431c-b9b7-a84ec9a387e9",
   "metadata": {},
   "outputs": [],
   "source": [
    "# parameters\n",
    "image_size=64\n",
    "classes=25\n",
    "num_epochs=50\n",
    "batch_size=512"
   ]
  },
  {
   "cell_type": "code",
   "execution_count": null,
   "id": "ecf5e80a-9fc6-457f-9730-280319095c53",
   "metadata": {},
   "outputs": [],
   "source": [
    "x_train, y_train = get_denmark(image_size=image_size)\n",
    "x_val, y_val = x_train, y_train\n",
    "x_test, y_test = x_train, y_train"
   ]
  },
  {
   "cell_type": "code",
   "execution_count": null,
   "id": "fbe5d056-7b59-4555-a81c-36707a20949f",
   "metadata": {},
   "outputs": [],
   "source": [
    "x_train,y_train=stable_shuffle(x_train,y_train)"
   ]
  },
  {
   "cell_type": "code",
   "execution_count": null,
   "id": "df1692d2-f909-48e4-b4a5-3e751a844375",
   "metadata": {},
   "outputs": [],
   "source": [
    "# limits regarded classes\n",
    "x_train=x_train[[x in list(range(0,classes)) for x in y_train]][0:100000]\n",
    "y_train=y_train[[x in list(range(0,classes)) for x in y_train]][0:100000]\n",
    "\n",
    "x_val=x_val[[x in list(range(0,classes)) for x in y_val]]\n",
    "y_val=y_val[[x in list(range(0,classes)) for x in y_val]]\n",
    "\n",
    "x_test=x_test[[x in list(range(0,classes)) for x in y_test]]\n",
    "y_test=y_test[[x in list(range(0,classes)) for x in y_test]]"
   ]
  },
  {
   "cell_type": "code",
   "execution_count": null,
   "id": "94e379e3",
   "metadata": {
    "executionInfo": {
     "elapsed": 614,
     "status": "ok",
     "timestamp": 1626718424633,
     "user": {
      "displayName": "Richard Albrecht",
      "photoUrl": "",
      "userId": "13250316245016473478"
     },
     "user_tz": -120
    },
    "id": "94e379e3"
   },
   "outputs": [],
   "source": [
    "y_train = to_categorical(y_train)\n",
    "y_val = to_categorical(y_val)\n",
    "y_test = to_categorical(y_test)"
   ]
  },
  {
   "cell_type": "code",
   "execution_count": null,
   "id": "zxtdClVbwEsn",
   "metadata": {
    "colab": {
     "base_uri": "https://localhost:8080/"
    },
    "executionInfo": {
     "elapsed": 12,
     "status": "ok",
     "timestamp": 1626718432149,
     "user": {
      "displayName": "Richard Albrecht",
      "photoUrl": "",
      "userId": "13250316245016473478"
     },
     "user_tz": -120
    },
    "id": "zxtdClVbwEsn",
    "outputId": "9bcee317-ecb3-4700-fd73-42d5a6f4172e"
   },
   "outputs": [],
   "source": [
    "print(\"Shape of training data: {}\".format(x_train.shape))\n",
    "print(\"Shape of a single image: {}\".format(x_train.shape[1:]))\n",
    "print(\"Type of data: {}\".format(x_train.dtype))\n",
    "print(\"Number of classes: {}\".format(len(y_train[0])))"
   ]
  },
  {
   "cell_type": "code",
   "execution_count": null,
   "id": "21bae7aa",
   "metadata": {
    "collapsed": false,
    "jupyter": {
     "outputs_hidden": false
    },
    "pycharm": {
     "name": "#%%\n"
    }
   },
   "outputs": [],
   "source": []
  },
  {
   "cell_type": "code",
   "execution_count": null,
   "id": "584da4f1-6324-4de0-af77-f815aa1a3ace",
   "metadata": {},
   "outputs": [],
   "source": [
    "baseModel = ResNet50(weights=\"imagenet\", include_top=False, input_tensor=Input(shape=(image_size, image_size, 3)))\n",
    "model = keras.models.Sequential()\n",
    "model.add(baseModel)\n",
    "model.add(keras.layers.GlobalAveragePooling2D(name=\"my_intermediate_layer\"))\n",
    "model.add(Dense(units=classes, activation=\"softmax\")),\n",
    "model.summary()"
   ]
  },
  {
   "cell_type": "code",
   "execution_count": null,
   "id": "fPa50_Edxxfm",
   "metadata": {
    "executionInfo": {
     "elapsed": 8,
     "status": "ok",
     "timestamp": 1626718438214,
     "user": {
      "displayName": "Richard Albrecht",
      "photoUrl": "",
      "userId": "13250316245016473478"
     },
     "user_tz": -120
    },
    "id": "fPa50_Edxxfm"
   },
   "outputs": [],
   "source": [
    "model.compile(loss=\"categorical_crossentropy\", optimizer=\"adam\", metrics=[\"accuracy\"])"
   ]
  },
  {
   "cell_type": "code",
   "execution_count": null,
   "id": "03450d1d-7e98-46a9-8a8c-a67bad36400b",
   "metadata": {},
   "outputs": [],
   "source": [
    "x_train.shape"
   ]
  },
  {
   "cell_type": "code",
   "execution_count": null,
   "id": "840d95c4-f31c-45a9-bd54-76fc05937ec5",
   "metadata": {},
   "outputs": [],
   "source": [
    "checkpoint_filepath = '../model/transfer_learning/checkpoint'\n",
    "model_checkpoint_callback = tf.keras.callbacks.ModelCheckpoint(\n",
    "    filepath=checkpoint_filepath,\n",
    "    save_weights_only=False,\n",
    "    monitor='val_accuracy',\n",
    "    mode='max',\n",
    "    save_best_only=True)"
   ]
  },
  {
   "cell_type": "code",
   "execution_count": null,
   "id": "155f6231",
   "metadata": {
    "colab": {
     "base_uri": "https://localhost:8080/"
    },
    "executionInfo": {
     "elapsed": 83706,
     "status": "ok",
     "timestamp": 1626718521914,
     "user": {
      "displayName": "Richard Albrecht",
      "photoUrl": "",
      "userId": "13250316245016473478"
     },
     "user_tz": -120
    },
    "id": "155f6231",
    "outputId": "ac6de68d-db92-4166-f052-97d0965fe452"
   },
   "outputs": [],
   "source": [
    "# Because of the computation time, the intended number of epochs could not be used after some changes\n",
    "early_stopping = tf.keras.callbacks.EarlyStopping(monitor='loss', patience=3)\n",
    "history = model.fit(x_train,y_train,\n",
    "                    batch_size=batch_size,\n",
    "                    epochs=num_epochs,\n",
    "                    callbacks=[model_checkpoint_callback],\n",
    "                    validation_data=(x_val,y_val),\n",
    "                   )"
   ]
  },
  {
   "cell_type": "code",
   "execution_count": null,
   "id": "1c60b6a6-d8bb-4bd5-9dbf-bd0b51192b9a",
   "metadata": {},
   "outputs": [],
   "source": [
    "model.evaluate(x_val,y_val)"
   ]
  },
  {
   "cell_type": "code",
   "execution_count": null,
   "id": "8b3d766f",
   "metadata": {
    "colab": {
     "base_uri": "https://localhost:8080/",
     "height": 464
    },
    "executionInfo": {
     "elapsed": 332,
     "status": "ok",
     "timestamp": 1626718522238,
     "user": {
      "displayName": "Richard Albrecht",
      "photoUrl": "",
      "userId": "13250316245016473478"
     },
     "user_tz": -120
    },
    "id": "8b3d766f",
    "outputId": "646981b7-f22b-492d-9073-b71023687768"
   },
   "outputs": [],
   "source": [
    "x = np.arange(len(history.history['loss']))\n",
    "plt.figure(figsize=(10,7))\n",
    "plt.plot(x, history.history['accuracy'])\n",
    "plt.plot(x, history.history['val_accuracy'])\n",
    "plt.ylim(0, 1)\n",
    "plt.xlabel('Epochs')\n",
    "plt.ylabel('Accuracy')"
   ]
  },
  {
   "cell_type": "code",
   "execution_count": null,
   "id": "50372e03",
   "metadata": {
    "collapsed": false,
    "jupyter": {
     "outputs_hidden": false
    },
    "pycharm": {
     "name": "#%%\n"
    }
   },
   "outputs": [],
   "source": [
    "print(\"Feature extraction from the model\")\n",
    "feature_extractor = keras.Model(\n",
    "   inputs=model.inputs,\n",
    "   outputs=model.get_layer(name=\"my_intermediate_layer\").output,\n",
    ")\n",
    "print(\"The feature extractor method is called on test data\")\n",
    "x = tf.ones((1, image_size, image_size, 3))\n",
    "features = feature_extractor(x)"
   ]
  },
  {
   "cell_type": "code",
   "execution_count": null,
   "id": "50ea2ea1",
   "metadata": {
    "collapsed": false,
    "jupyter": {
     "outputs_hidden": false
    },
    "pycharm": {
     "name": "#%%\n"
    }
   },
   "outputs": [],
   "source": [
    "print(x_test.shape,y_test.shape)"
   ]
  },
  {
   "cell_type": "code",
   "execution_count": null,
   "id": "aa0a9ecc",
   "metadata": {},
   "outputs": [],
   "source": [
    "testlabel = np.zeros((len(y_test)))\n",
    "for i in range(0,len(y_test)):\n",
    "    for j in range(0,len(y_test[i])):\n",
    "        if(y_test[i][j]==1):\n",
    "            testlabel[i]=j"
   ]
  },
  {
   "cell_type": "code",
   "execution_count": null,
   "id": "b649fe99",
   "metadata": {
    "collapsed": false,
    "jupyter": {
     "outputs_hidden": false
    },
    "pycharm": {
     "name": "#%%\n"
    }
   },
   "outputs": [],
   "source": [
    "# read data and load pretrained network\n",
    "model_resnet = ResNet50(weights='imagenet', include_top=False,input_shape=(image_size,image_size,3),pooling=\"avg\")"
   ]
  },
  {
   "cell_type": "code",
   "execution_count": null,
   "id": "265ac10d-956e-43fd-8913-619930ddb1b9",
   "metadata": {},
   "outputs": [],
   "source": [
    "print(x_test.shape,y_test.shape)"
   ]
  },
  {
   "cell_type": "code",
   "execution_count": null,
   "id": "2f0f4e2d-b3f8-4b94-ad03-2ba14312e419",
   "metadata": {},
   "outputs": [],
   "source": [
    "model = keras.models.load_model('../model/transfer_learning/checkpoint/')"
   ]
  },
  {
   "cell_type": "code",
   "execution_count": null,
   "id": "0ee0a212-9224-4684-b195-981fcc6c4e03",
   "metadata": {},
   "outputs": [],
   "source": [
    "print(\"Feature extraction from the model\")\n",
    "feature_extractor = keras.Model(\n",
    "   inputs=model.inputs,\n",
    "   outputs=model.get_layer(name=\"my_intermediate_layer\").output,\n",
    ")"
   ]
  },
  {
   "cell_type": "code",
   "execution_count": null,
   "id": "c3d58700-8012-414b-a63d-882f2dba7804",
   "metadata": {},
   "outputs": [],
   "source": [
    "x_test, y_test = get_denmark(image_size=image_size)"
   ]
  },
  {
   "cell_type": "code",
   "execution_count": null,
   "id": "d8377037-0101-4126-bf70-d758967ec858",
   "metadata": {},
   "outputs": [],
   "source": [
    "print(x_test.shape,y_test.shape)"
   ]
  },
  {
   "cell_type": "code",
   "execution_count": null,
   "id": "ff7421cb",
   "metadata": {
    "collapsed": false,
    "jupyter": {
     "outputs_hidden": false
    },
    "pycharm": {
     "name": "#%%\n"
    }
   },
   "outputs": [],
   "source": [
    "print(\"extractor_model: \", evaluate_extractor(feature_extractor.predict, x_test, y_test, neighbors=10))\n",
    "print(\"model_resnet: \", evaluate_extractor(model_resnet.predict, x_test, y_test, neighbors=10))"
   ]
  },
  {
   "cell_type": "code",
   "execution_count": null,
   "id": "be7d81f1-3fa9-43d9-abe2-862b4c9bbdf9",
   "metadata": {},
   "outputs": [],
   "source": [
    "model.save('../model/transfer_learning/model/')"
   ]
  }
 ],
 "metadata": {
  "accelerator": "GPU",
  "colab": {
   "collapsed_sections": [],
   "name": "Acc80Vorverarbeitung.ipynb",
   "provenance": []
  },
  "kernelspec": {
   "display_name": "Python 3 (ipykernel)",
   "language": "python",
   "name": "python3"
  },
  "language_info": {
   "codemirror_mode": {
    "name": "ipython",
    "version": 3
   },
   "file_extension": ".py",
   "mimetype": "text/x-python",
   "name": "python",
   "nbconvert_exporter": "python",
   "pygments_lexer": "ipython3",
   "version": "3.8.10"
  }
 },
 "nbformat": 4,
 "nbformat_minor": 5
}
