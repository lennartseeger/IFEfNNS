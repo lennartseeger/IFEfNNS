{
 "cells": [
  {
   "cell_type": "markdown",
   "metadata": {},
   "source": [
    "# Preprocessing of classification datasets\n",
    "\n",
    "**Author:** [Lennart Seeger]<br>\n",
    "**Date created:** 2021/04/24<br>\n",
    "**Last modified:** 2023/03/24<br>"
   ]
  },
  {
   "cell_type": "code",
   "execution_count": null,
   "metadata": {
    "collapsed": false,
    "jupyter": {
     "outputs_hidden": false
    },
    "pycharm": {
     "name": "#%%\n"
    }
   },
   "outputs": [],
   "source": [
    "import os\n",
    "import numpy as np\n",
    "from PIL import Image"
   ]
  },
  {
   "cell_type": "code",
   "execution_count": null,
   "metadata": {
    "collapsed": false,
    "jupyter": {
     "outputs_hidden": false
    },
    "pycharm": {
     "name": "#%%\n"
    }
   },
   "outputs": [],
   "source": [
    "# configuration\n",
    "dataset_name = \"denmark\" #denmark, aid, mlrsnet, ucmerced\n",
    "image_size=256"
   ]
  },
  {
   "cell_type": "code",
   "execution_count": null,
   "metadata": {},
   "outputs": [],
   "source": [
    "len(os.listdir(\"../data/classification_datasets/\"+dataset_name))"
   ]
  },
  {
   "cell_type": "code",
   "execution_count": null,
   "metadata": {
    "collapsed": false,
    "jupyter": {
     "outputs_hidden": false
    },
    "pycharm": {
     "name": "#%%\n"
    }
   },
   "outputs": [],
   "source": [
    "#efficient list comprehension for transformation\n",
    "images= []\n",
    "iterator=0\n",
    "while iterator < len(os.listdir(\"../data/classification_datasets/\"+dataset_name)):\n",
    "    image_pathes=os.listdir(\"../data/classification_datasets/\"+dataset_name)[iterator:iterator+1000]\n",
    "    images_temp=[np.array(Image.open(\"../data/classification_datasets/\"+dataset_name+\"/\"+image_path)).reshape(image_size,image_size,3) for image_path in image_pathes]\n",
    "    images=images+images_temp\n",
    "    print(len(images))\n",
    "    iterator=iterator+1000\n",
    "    print(iterator)"
   ]
  },
  {
   "cell_type": "code",
   "execution_count": null,
   "metadata": {
    "collapsed": false,
    "jupyter": {
     "outputs_hidden": false
    },
    "pycharm": {
     "name": "#%%\n"
    }
   },
   "outputs": [],
   "source": [
    "image_array=np.array(images)\n",
    "image_array.shape"
   ]
  },
  {
   "cell_type": "code",
   "execution_count": null,
   "metadata": {},
   "outputs": [],
   "source": [
    "image_pathes=os.listdir(\"../data/classification_datasets/\"+dataset_name)"
   ]
  },
  {
   "cell_type": "code",
   "execution_count": null,
   "metadata": {
    "collapsed": false,
    "jupyter": {
     "outputs_hidden": false
    },
    "pycharm": {
     "name": "#%%\n"
    }
   },
   "outputs": [],
   "source": [
    "# Labels AID\n",
    "if dataset_name == \"aid\":\n",
    "    image_pathes\n",
    "    labels=[''.join(i for i in image_path if not i.isdigit()).replace(\".tif\",\"\") for image_path in image_pathes]\n",
    "    print(len(labels))"
   ]
  },
  {
   "cell_type": "code",
   "execution_count": null,
   "metadata": {
    "collapsed": false,
    "jupyter": {
     "outputs_hidden": false
    },
    "pycharm": {
     "name": "#%%\n"
    }
   },
   "outputs": [],
   "source": [
    "# Labels MLRSNET\n",
    "if dataset_name == \"mlrsnet\":\n",
    "    labels=[''.join(i for i in image_path if not i.isdigit()).replace(\"_.jpg\",\"\") for image_path in image_pathes]\n",
    "    print(len(labels))"
   ]
  },
  {
   "cell_type": "code",
   "execution_count": null,
   "metadata": {
    "collapsed": false,
    "jupyter": {
     "outputs_hidden": false
    },
    "pycharm": {
     "name": "#%%\n"
    }
   },
   "outputs": [],
   "source": [
    "# Labels UC-Merced\n",
    "if dataset_name == \"ucmerced\":\n",
    "    labels=[''.join(i for i in image_path if not i.isdigit()).replace(\".tif\",\"\") for image_path in image_pathes]\n",
    "    print(len(labels))"
   ]
  },
  {
   "cell_type": "code",
   "execution_count": null,
   "metadata": {},
   "outputs": [],
   "source": [
    "# Labels Denmark\n",
    "if dataset_name == \"denmark\":\n",
    "    labels=[''.join(i for i in image_path if not i.isdigit()).replace(\" ().png\",\"\") for image_path in image_pathes]\n",
    "    print(len(labels))"
   ]
  },
  {
   "cell_type": "code",
   "execution_count": null,
   "metadata": {},
   "outputs": [],
   "source": [
    "print(np.array(images).shape, np.array(labels).shape)"
   ]
  },
  {
   "cell_type": "code",
   "execution_count": null,
   "metadata": {
    "collapsed": false,
    "jupyter": {
     "outputs_hidden": false
    },
    "pycharm": {
     "name": "#%%\n"
    }
   },
   "outputs": [],
   "source": [
    "np.savez(\"../data/\"+dataset_name, images=images, labels=labels)"
   ]
  }
 ],
 "metadata": {
  "kernelspec": {
   "display_name": "Python 3 (ipykernel)",
   "language": "python",
   "name": "python3"
  },
  "language_info": {
   "codemirror_mode": {
    "name": "ipython",
    "version": 3
   },
   "file_extension": ".py",
   "mimetype": "text/x-python",
   "name": "python",
   "nbconvert_exporter": "python",
   "pygments_lexer": "ipython3",
   "version": "3.8.10"
  }
 },
 "nbformat": 4,
 "nbformat_minor": 4
}
