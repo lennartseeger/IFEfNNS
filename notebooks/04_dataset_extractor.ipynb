{
 "cells": [
  {
   "cell_type": "markdown",
   "id": "005e8564-cc54-42d4-8090-a6093151ef49",
   "metadata": {},
   "source": [
    "# Extraction of cutouts from satellite images\n",
    "\n",
    "**Author:** [Lennart Seeger]<br>\n",
    "**Date created:** 2021/04/24<br>\n",
    "**Last modified:** 2023/03/24<br>"
   ]
  },
  {
   "cell_type": "code",
   "execution_count": null,
   "id": "30a21f02-be51-48e3-8922-542c54a709b7",
   "metadata": {},
   "outputs": [],
   "source": [
    "import sys\n",
    "import rasterio as rio\n",
    "from pyproj import Transformer\n",
    "from PIL import Image\n",
    "import random\n",
    "import numpy as np\n",
    "import os\n",
    "\n",
    "sys.path.insert(1, '../src')\n",
    "%load_ext autoreload\n",
    "%autoreload 2\n",
    "os.environ['CUDA_VISIBLE_DEVICES'] = '-1'                "
   ]
  },
  {
   "cell_type": "code",
   "execution_count": null,
   "id": "060e83fe-41fe-4c03-be28-b6ee41a71f2d",
   "metadata": {},
   "outputs": [],
   "source": [
    "num_images=100000\n",
    "data_std=\"avg_std30\"\n",
    "source_data=\"valid_positions_\"+data_std+\".npy\"\n",
    "image_size=256"
   ]
  },
  {
   "cell_type": "code",
   "execution_count": null,
   "id": "c678d999-14b6-4bce-b28e-eaf57f14bfe1",
   "metadata": {},
   "outputs": [],
   "source": [
    "valid_positions=np.load(\"../data/\"+source_data)\n",
    "print(valid_positions.shape)\n",
    "random_indices=random.sample(range(len(valid_positions)), len(valid_positions))\n",
    "valid_positions_extraction=valid_positions[random_indices]"
   ]
  },
  {
   "cell_type": "code",
   "execution_count": null,
   "id": "1c04dd3b-f666-46af-b4cd-6f817ee33ec5",
   "metadata": {},
   "outputs": [],
   "source": [
    "cog=\"/home/jovyan/work/satellite_data/all_cog.tif\"\n",
    "size=256\n",
    "image_size=64\n",
    "batch_size=5000\n",
    "start_row=0\n",
    "start_col=0\n",
    "out_crs=3857\n",
    "element_counter=0\n",
    "threshold=1000\n",
    "with rio.open(cog) as dataset:\n",
    "    transformer = Transformer.from_crs(\n",
    "                dataset.crs.to_epsg(), out_crs, always_xy=True)\n",
    "    for element in valid_positions_extraction:\n",
    "        row=element[0]\n",
    "        col=element[1]\n",
    "        window = dataset.read(window=((row, row + size), (col, col + size)))\n",
    "        # yield list of windows for batch\n",
    "        window=np.moveaxis(window,0,2)\n",
    "        #test-----------------------------------------------\n",
    "        if((window.sum(axis=2)==(255*3)).sum()>threshold or (window.sum(axis=2)==0).sum()>threshold):\n",
    "            continue\n",
    "        #----------------------------------\n",
    "        \n",
    "        #optional sample down directly\n",
    "        #sample images down here\n",
    "        #window=reshape_images(window.reshape(1,256,256,3), image_size = 64).reshape(64,64,3)\n",
    "        \n",
    "        im = Image.fromarray(window)\n",
    "        im.save(\"../data/\"+data_std+\"/\"+str(element_counter)+\".jpeg\")\n",
    "        element_counter+=1\n",
    "        if element_counter%1000==0:\n",
    "            print(f\"progress: {(element_counter/num_images*100):.2f}%\")\n",
    "        if element_counter>num_images-1:\n",
    "            break"
   ]
  }
 ],
 "metadata": {
  "kernelspec": {
   "display_name": "Python 3 (ipykernel)",
   "language": "python",
   "name": "python3"
  },
  "language_info": {
   "codemirror_mode": {
    "name": "ipython",
    "version": 3
   },
   "file_extension": ".py",
   "mimetype": "text/x-python",
   "name": "python",
   "nbconvert_exporter": "python",
   "pygments_lexer": "ipython3",
   "version": "3.8.10"
  }
 },
 "nbformat": 4,
 "nbformat_minor": 5
}
