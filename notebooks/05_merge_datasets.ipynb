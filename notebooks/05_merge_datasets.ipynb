{
 "cells": [
  {
   "cell_type": "markdown",
   "id": "f9466d73-028b-474c-a409-253ced7ec8cf",
   "metadata": {},
   "source": [
    "# Merging of images in a repository to a numpy array\n",
    "\n",
    "**Author:** [Lennart Seeger]<br>\n",
    "**Date created:** 2021/04/24<br>\n",
    "**Last modified:** 2023/03/24<br>"
   ]
  },
  {
   "cell_type": "code",
   "execution_count": null,
   "id": "d1a76a12-cec5-4669-9905-b423e17a783c",
   "metadata": {},
   "outputs": [],
   "source": [
    "import numpy as np\n",
    "import os\n",
    "import tensorflow as tf\n",
    "os.environ['CUDA_VISIBLE_DEVICES'] = '-1'"
   ]
  },
  {
   "cell_type": "code",
   "execution_count": null,
   "id": "8f0f2566-15cb-4741-ba14-245a85fb7a61",
   "metadata": {},
   "outputs": [],
   "source": [
    "dataset_path= \"../data/avg_std30/\"\n",
    "save_path= \"../data/avg_std30.npy\"\n",
    "image_size=64"
   ]
  },
  {
   "cell_type": "code",
   "execution_count": null,
   "id": "1905ceb7-2b1a-47e0-b089-2d296603615c",
   "metadata": {},
   "outputs": [],
   "source": [
    "image_generator=tf.keras.utils.image_dataset_from_directory(\n",
    "    dataset_path,\n",
    "    labels=None,\n",
    "    label_mode='int',\n",
    "    class_names=None,\n",
    "    color_mode='rgb',\n",
    "    batch_size=1000,\n",
    "    image_size=(image_size, image_size),\n",
    "    shuffle=True,\n",
    "    seed=None,\n",
    "    validation_split=None,\n",
    "    subset=None,\n",
    "    interpolation='bilinear',\n",
    "    follow_links=False,\n",
    "    crop_to_aspect_ratio=False,\n",
    ")"
   ]
  },
  {
   "cell_type": "code",
   "execution_count": null,
   "id": "bd4ddc97-b212-4549-b623-e057e8777fcc",
   "metadata": {},
   "outputs": [],
   "source": [
    "x_train=np.zeros(image_size*image_size*3).reshape(1,image_size,image_size,3)\n",
    "for element in image_generator:\n",
    "    x_train=np.append(x_train,element,axis=0)\n",
    "    print(x_train.shape)\n",
    "x_train=x_train[1:]"
   ]
  },
  {
   "cell_type": "code",
   "execution_count": null,
   "id": "9df3a0b9-7c76-4d4d-ba9f-b04efb9ee93a",
   "metadata": {},
   "outputs": [],
   "source": [
    "np.save(save_path,x_train)"
   ]
  }
 ],
 "metadata": {
  "kernelspec": {
   "display_name": "Python 3 (ipykernel)",
   "language": "python",
   "name": "python3"
  },
  "language_info": {
   "codemirror_mode": {
    "name": "ipython",
    "version": 3
   },
   "file_extension": ".py",
   "mimetype": "text/x-python",
   "name": "python",
   "nbconvert_exporter": "python",
   "pygments_lexer": "ipython3",
   "version": "3.8.10"
  }
 },
 "nbformat": 4,
 "nbformat_minor": 5
}
